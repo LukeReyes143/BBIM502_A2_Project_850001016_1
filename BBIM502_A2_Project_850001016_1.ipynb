{
 "cells": [
  {
   "cell_type": "code",
   "execution_count": 8,
   "id": "eb657c33-c581-4bb1-ba84-3749fd2597bb",
   "metadata": {},
   "outputs": [
    {
     "name": "stdout",
     "output_type": "stream",
     "text": [
      "\n",
      "Hotel Management System\n",
      "1. Add Room\n",
      "2. Delete Room\n",
      "3. Display Room Details\n",
      "4. Allocate Rooms\n",
      "5. Display Room Allocation Details\n",
      "6. Billing and De-allocation\n",
      "7. Save Room Allocation to File\n",
      "8. Show Room Allocation from File\n",
      "9. Backup Room Allocation File\n",
      "0. Exit Application\n"
     ]
    },
    {
     "name": "stdin",
     "output_type": "stream",
     "text": [
      "Enter your choice:  1\n",
      "Enter room number to add:  34\n",
      "Enter room features:  2 king size beds\n"
     ]
    },
    {
     "name": "stdout",
     "output_type": "stream",
     "text": [
      "Room 34 added successfully.\n",
      "\n",
      "Hotel Management System\n",
      "1. Add Room\n",
      "2. Delete Room\n",
      "3. Display Room Details\n",
      "4. Allocate Rooms\n",
      "5. Display Room Allocation Details\n",
      "6. Billing and De-allocation\n",
      "7. Save Room Allocation to File\n",
      "8. Show Room Allocation from File\n",
      "9. Backup Room Allocation File\n",
      "0. Exit Application\n"
     ]
    },
    {
     "name": "stdin",
     "output_type": "stream",
     "text": [
      "Enter your choice:  3\n",
      "Enter room number to display details:  34\n"
     ]
    },
    {
     "name": "stdout",
     "output_type": "stream",
     "text": [
      "Room 34 details: 2 king size beds\n",
      "\n",
      "Hotel Management System\n",
      "1. Add Room\n",
      "2. Delete Room\n",
      "3. Display Room Details\n",
      "4. Allocate Rooms\n",
      "5. Display Room Allocation Details\n",
      "6. Billing and De-allocation\n",
      "7. Save Room Allocation to File\n",
      "8. Show Room Allocation from File\n",
      "9. Backup Room Allocation File\n",
      "0. Exit Application\n"
     ]
    },
    {
     "name": "stdin",
     "output_type": "stream",
     "text": [
      "Enter your choice:  4\n",
      "Enter room number to allocate:  34\n",
      "Enter customer name:  Luke Reyes\n"
     ]
    },
    {
     "name": "stdout",
     "output_type": "stream",
     "text": [
      "Room 34 allocated to Luke Reyes.\n",
      "\n",
      "Hotel Management System\n",
      "1. Add Room\n",
      "2. Delete Room\n",
      "3. Display Room Details\n",
      "4. Allocate Rooms\n",
      "5. Display Room Allocation Details\n",
      "6. Billing and De-allocation\n",
      "7. Save Room Allocation to File\n",
      "8. Show Room Allocation from File\n",
      "9. Backup Room Allocation File\n",
      "0. Exit Application\n"
     ]
    },
    {
     "name": "stdin",
     "output_type": "stream",
     "text": [
      "Enter your choice:  5\n"
     ]
    },
    {
     "name": "stdout",
     "output_type": "stream",
     "text": [
      "Room 34 is allocated to Luke Reyes\n",
      "\n",
      "Hotel Management System\n",
      "1. Add Room\n",
      "2. Delete Room\n",
      "3. Display Room Details\n",
      "4. Allocate Rooms\n",
      "5. Display Room Allocation Details\n",
      "6. Billing and De-allocation\n",
      "7. Save Room Allocation to File\n",
      "8. Show Room Allocation from File\n",
      "9. Backup Room Allocation File\n",
      "0. Exit Application\n"
     ]
    },
    {
     "name": "stdin",
     "output_type": "stream",
     "text": [
      "Enter your choice:  7\n"
     ]
    },
    {
     "name": "stdout",
     "output_type": "stream",
     "text": [
      "Room allocations saved to file.\n",
      "\n",
      "Hotel Management System\n",
      "1. Add Room\n",
      "2. Delete Room\n",
      "3. Display Room Details\n",
      "4. Allocate Rooms\n",
      "5. Display Room Allocation Details\n",
      "6. Billing and De-allocation\n",
      "7. Save Room Allocation to File\n",
      "8. Show Room Allocation from File\n",
      "9. Backup Room Allocation File\n",
      "0. Exit Application\n"
     ]
    },
    {
     "name": "stdin",
     "output_type": "stream",
     "text": [
      "Enter your choice:  8\n"
     ]
    },
    {
     "name": "stdout",
     "output_type": "stream",
     "text": [
      "Room Allocations from file:\n",
      "Room 34 allocated to Luke Reyes\n",
      "\n",
      "\n",
      "Hotel Management System\n",
      "1. Add Room\n",
      "2. Delete Room\n",
      "3. Display Room Details\n",
      "4. Allocate Rooms\n",
      "5. Display Room Allocation Details\n",
      "6. Billing and De-allocation\n",
      "7. Save Room Allocation to File\n",
      "8. Show Room Allocation from File\n",
      "9. Backup Room Allocation File\n",
      "0. Exit Application\n"
     ]
    },
    {
     "name": "stdin",
     "output_type": "stream",
     "text": [
      "Enter your choice:  9\n"
     ]
    },
    {
     "name": "stdout",
     "output_type": "stream",
     "text": [
      "Backup created: LHMS_Studentid_Backup_20240711_112010.txt\n",
      "\n",
      "Hotel Management System\n",
      "1. Add Room\n",
      "2. Delete Room\n",
      "3. Display Room Details\n",
      "4. Allocate Rooms\n",
      "5. Display Room Allocation Details\n",
      "6. Billing and De-allocation\n",
      "7. Save Room Allocation to File\n",
      "8. Show Room Allocation from File\n",
      "9. Backup Room Allocation File\n",
      "0. Exit Application\n"
     ]
    },
    {
     "name": "stdin",
     "output_type": "stream",
     "text": [
      "Enter your choice:  6\n",
      "Enter room number to deallocate:  34\n"
     ]
    },
    {
     "name": "stdout",
     "output_type": "stream",
     "text": [
      "Billing for Luke Reyes for room 34.\n",
      "Room 34 deallocated.\n",
      "\n",
      "Hotel Management System\n",
      "1. Add Room\n",
      "2. Delete Room\n",
      "3. Display Room Details\n",
      "4. Allocate Rooms\n",
      "5. Display Room Allocation Details\n",
      "6. Billing and De-allocation\n",
      "7. Save Room Allocation to File\n",
      "8. Show Room Allocation from File\n",
      "9. Backup Room Allocation File\n",
      "0. Exit Application\n"
     ]
    },
    {
     "name": "stdin",
     "output_type": "stream",
     "text": [
      "Enter your choice:  2\n",
      "Enter room number to delete:  34\n"
     ]
    },
    {
     "name": "stdout",
     "output_type": "stream",
     "text": [
      "Room 34 deleted successfully.\n",
      "\n",
      "Hotel Management System\n",
      "1. Add Room\n",
      "2. Delete Room\n",
      "3. Display Room Details\n",
      "4. Allocate Rooms\n",
      "5. Display Room Allocation Details\n",
      "6. Billing and De-allocation\n",
      "7. Save Room Allocation to File\n",
      "8. Show Room Allocation from File\n",
      "9. Backup Room Allocation File\n",
      "0. Exit Application\n"
     ]
    },
    {
     "name": "stdin",
     "output_type": "stream",
     "text": [
      "Enter your choice:  0\n"
     ]
    },
    {
     "name": "stdout",
     "output_type": "stream",
     "text": [
      "Exiting application.\n"
     ]
    }
   ],
   "source": [
    "# The File Name is Luke Reyes – Hotel Room Program\n",
    "# Author: [Luke Reyes]\n",
    "# It is a simple hotel program for hotel management\n",
    "# 11-July-2024\n",
    "\n",
    "# Importing required modules\n",
    "import os\n",
    "import datetime\n",
    "\n",
    "# Variables to store room and allocation information\n",
    "rooms = []\n",
    "allocations = {}\n",
    "\n",
    "def add_room():\n",
    "    try:\n",
    "        # Prompt user for room details\n",
    "        room_number = input(\"Enter room number to add: \")\n",
    "        room_features = input(\"Enter room features: \")\n",
    "        # Add room to the list\n",
    "        rooms.append({'number': room_number, 'features': room_features})\n",
    "        print(f\"Room {room_number} added successfully.\")\n",
    "    except (SyntaxError, ValueError, TypeError) as e:\n",
    "        print(f\"Error: {e}\")\n",
    "\n",
    "def delete_room():\n",
    "    try:\n",
    "        # Prompt user for room number to delete \n",
    "        room_number = input(\"Enter room number to delete: \")\n",
    "        # Search for the room and delete if found\n",
    "        for room in rooms:\n",
    "            if room['number'] == room_number:\n",
    "                rooms.remove(room)\n",
    "                print(f\"Room {room_number} deleted successfully.\")\n",
    "                return\n",
    "        print(\"Room not found.\")\n",
    "    except (SyntaxError, ValueError, TypeError) as e:\n",
    "        print(f\"Error: {e}\")\n",
    "\n",
    "def display_room_details():\n",
    "    try:\n",
    "        # Prompt user for room number to display\n",
    "        room_number = input(\"Enter room number to display details: \")\n",
    "        # Search for the room and display details if found\n",
    "        for room in rooms:\n",
    "            if room['number'] == room_number:\n",
    "                print(f\"Room {room_number} details: {room['features']}\")\n",
    "                return\n",
    "        print(\"Room not found.\")\n",
    "    except (SyntaxError, ValueError, TypeError) as e:\n",
    "        print(f\"Error: {e}\")\n",
    "\n",
    "def allocate_room():\n",
    "    try:\n",
    "        # Prompt user for room allocation details\n",
    "        room_number = input(\"Enter room number to allocate: \")\n",
    "        customer_name = input(\"Enter customer name: \")\n",
    "        # Check if room is already allocated \n",
    "        if room_number in allocations:\n",
    "            print(f\"Room {room_number} is already allocated.\")\n",
    "        else:\n",
    "            # Allocate the room\n",
    "            allocations[room_number] = customer_name\n",
    "            print(f\"Room {room_number} allocated to {customer_name}.\")\n",
    "    except (SyntaxError, ValueError, TypeError) as e:\n",
    "        print(f\"Error: {e}\")\n",
    "\n",
    "def display_room_allocation_details():\n",
    "    try:\n",
    "        # Display all current room allocations\n",
    "        for room_number, customer_name in allocations.items():\n",
    "            print(f\"Room {room_number} is allocated to {customer_name}\")\n",
    "    except (SyntaxError, ValueError, TypeError) as e:\n",
    "        print(f\"Error: {e}\")\n",
    "\n",
    "def bill_and_deallocate():\n",
    "    try:\n",
    "        # Prompt user for room number to deallocate\n",
    "        room_number = input(\"Enter room number to deallocate: \")\n",
    "        # Check if room is allocated and deallocate if it is\n",
    "        if room_number in allocations:\n",
    "            customer_name = allocations.pop(room_number)\n",
    "            print(f\"Billing for {customer_name} for room {room_number}.\")\n",
    "            print(f\"Room {room_number} deallocated.\")\n",
    "        else:\n",
    "            print(\"Room not allocated.\")\n",
    "    except (SyntaxError, ValueError, TypeError) as e:\n",
    "        print(f\"Error: {e}\")\n",
    "\n",
    "def save_allocation_to_file():\n",
    "    try:\n",
    "        # Open file and write current allocations\n",
    "        with open(\"LHMS_Studentid.txt\", \"w\") as file:\n",
    "            for room_number, customer_name in allocations.items():\n",
    "                file.write(f\"Room {room_number} allocated to {customer_name}\\n\")\n",
    "        print(\"Room allocations saved to file.\")\n",
    "    except (IOError, FileNotFoundError) as e:\n",
    "        print(f\"Error: {e}\")\n",
    "\n",
    "def show_allocation_from_file():\n",
    "    try:\n",
    "        # Check if file exists and display its contents\n",
    "        if os.path.exists(\"LHMS_Studentid.txt\"):\n",
    "            with open(\"LHMS_Studentid.txt\", \"r\") as file:\n",
    "                content = file.read()\n",
    "                print(\"Room Allocations from file:\")\n",
    "                print(content)\n",
    "        else:\n",
    "            print(\"File not found.\")\n",
    "    except (IOError, FileNotFoundError) as e:\n",
    "        print(f\"Error: {e}\")\n",
    "\n",
    "def backup_allocation_file():\n",
    "    try:\n",
    "        # Check if file exists\n",
    "        if os.path.exists(\"LHMS_Studentid.txt\"):\n",
    "            # Genrate a unique  backup filename using current timestamp\n",
    "            backup_filename = f\"LHMS_Studentid_Backup_{datetime.datetime.now().strftime('%Y%m%d_%H%M%S')}.txt\"\n",
    "            # Create backup and remove original file\n",
    "            with open(\"LHMS_Studentid.txt\", \"r\") as original, open(backup_filename, \"w\") as backup:\n",
    "                content = original.read()\n",
    "                backup.write(content)\n",
    "            os.remove(\"LHMS_Studentid.txt\")\n",
    "            print(f\"Backup created: {backup_filename}\")\n",
    "        else:\n",
    "            print(\"File not found.\")\n",
    "    except (IOError, FileNotFoundError) as e:\n",
    "        print(f\"Error: {e}\")\n",
    "\n",
    "def main():\n",
    "    while True:\n",
    "        try:\n",
    "            # Display menu options\n",
    "            print(\"\\nHotel Management System\")\n",
    "            print(\"1. Add Room\")\n",
    "            print(\"2. Delete Room\")\n",
    "            print(\"3. Display Room Details\")\n",
    "            print(\"4. Allocate Rooms\")\n",
    "            print(\"5. Display Room Allocation Details\")\n",
    "            print(\"6. Billing and De-allocation\")\n",
    "            print(\"7. Save Room Allocation to File\")\n",
    "            print(\"8. Show Room Allocation from File\")\n",
    "            print(\"9. Backup Room Allocation File\")\n",
    "            print(\"0. Exit Application\")\n",
    "            choice = input(\"Enter your choice: \")\n",
    "\n",
    "            # Process user choice\n",
    "            if choice == '1':\n",
    "                add_room()\n",
    "            elif choice == '2':\n",
    "                delete_room()\n",
    "            elif choice == '3':\n",
    "                display_room_details()\n",
    "            elif choice == '4':\n",
    "                allocate_room()\n",
    "            elif choice == '5':\n",
    "                display_room_allocation_details()\n",
    "            elif choice == '6':\n",
    "                bill_and_deallocate()\n",
    "            elif choice == '7':\n",
    "                save_allocation_to_file()\n",
    "            elif choice == '8':\n",
    "                show_allocation_from_file()\n",
    "            elif choice == '9':\n",
    "                backup_allocation_file()\n",
    "            elif choice == '0':\n",
    "                print(\"Exiting application.\")\n",
    "                break\n",
    "            else:\n",
    "                print(\"Invalid choice, please try again.\")\n",
    "        except (SyntaxError, ValueError, IndexError, NameError, TypeError, OverflowError, EOFError, ImportError) as e:\n",
    "            print(f\"Error: {e}\")\n",
    "\n",
    "# Entry point of the program\n",
    "if __name__ == \"__main__\":\n",
    "    main()"
   ]
  },
  {
   "cell_type": "code",
   "execution_count": 9,
   "id": "ae94bfc7-a31f-49f1-9cee-6429ae3b9b34",
   "metadata": {},
   "outputs": [
    {
     "ename": "ZeroDivisionError",
     "evalue": "division by zero",
     "output_type": "error",
     "traceback": [
      "\u001b[1;31m---------------------------------------------------------------------------\u001b[0m",
      "\u001b[1;31mZeroDivisionError\u001b[0m                         Traceback (most recent call last)",
      "Cell \u001b[1;32mIn[9], line 2\u001b[0m\n\u001b[0;32m      1\u001b[0m \u001b[38;5;66;03m# This line attempts to perform division by zero\u001b[39;00m\n\u001b[1;32m----> 2\u001b[0m A\u001b[38;5;241m=\u001b[39m \u001b[38;5;241m1\u001b[39m\u001b[38;5;241m/\u001b[39m\u001b[38;5;241m0\u001b[39m\n\u001b[0;32m      3\u001b[0m \u001b[38;5;66;03m# This line will not be executed due to the ZeroDivisionError raised above \u001b[39;00m\n\u001b[0;32m      4\u001b[0m \u001b[38;5;28mprint\u001b[39m (A)\n",
      "\u001b[1;31mZeroDivisionError\u001b[0m: division by zero"
     ]
    }
   ],
   "source": [
    "# This line attempts to perform division by zero\n",
    "A= 1/0\n",
    "# This line will not be executed due to the ZeroDivisionError raised above \n",
    "print (A)"
   ]
  },
  {
   "cell_type": "code",
   "execution_count": 7,
   "id": "aee21806-015d-4007-b25a-cdadd839243c",
   "metadata": {},
   "outputs": [
    {
     "name": "stdout",
     "output_type": "stream",
     "text": [
      "Error: Cannot divide by zero\n"
     ]
    }
   ],
   "source": [
    "try:\n",
    "    # Attempt to perform division by zero\n",
    "    result = 1/0\n",
    "     # This line will not be executed due to the ZeroDivisionError\n",
    "    # If it were executed, it would store the result of 1 divided by 0\n",
    "except ZeroDivisionError:\n",
    "    # This block catches the specific ZeroDivisionError\n",
    "    print(\"Error: Cannot divide by zero\")\n",
    "     # The program continues execution from here after handling the error\n",
    "except Exception as err:\n",
    "    # This is a catch-all for any other unexpected errors\n",
    "    # It will capture any exception not caught by the previous except blocks\n",
    "    print(f\"An unexpected error occured: {err}\")\n",
    "    # 'err' contains the details of the exception\n",
    "    # This block provides a generic error message for unforeseen issues\n",
    "\n",
    "# After the try-except block, the program would continue its normal flow\n",
    "# If an exception occurred, it has been handled, preventing the program from crashing"
   ]
  }
 ],
 "metadata": {
  "kernelspec": {
   "display_name": "Python 3 (ipykernel)",
   "language": "python",
   "name": "python3"
  },
  "language_info": {
   "codemirror_mode": {
    "name": "ipython",
    "version": 3
   },
   "file_extension": ".py",
   "mimetype": "text/x-python",
   "name": "python",
   "nbconvert_exporter": "python",
   "pygments_lexer": "ipython3",
   "version": "3.11.7"
  }
 },
 "nbformat": 4,
 "nbformat_minor": 5
}
